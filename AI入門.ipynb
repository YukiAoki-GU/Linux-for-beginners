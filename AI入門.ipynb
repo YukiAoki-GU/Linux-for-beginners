{
  "cells": [
    {
      "cell_type": "markdown",
      "metadata": {
        "id": "view-in-github",
        "colab_type": "text"
      },
      "source": [
        "<a href=\"https://colab.research.google.com/github/YukiAoki-GU/Linux-for-beginners/blob/main/AI%E5%85%A5%E9%96%80.ipynb\" target=\"_parent\"><img src=\"https://colab.research.google.com/assets/colab-badge.svg\" alt=\"Open In Colab\"/></a>"
      ]
    },
    {
      "cell_type": "markdown",
      "id": "right-bouquet",
      "metadata": {
        "id": "right-bouquet"
      },
      "source": [
        "# AI入門"
      ]
    },
    {
      "cell_type": "markdown",
      "id": "relative-adoption",
      "metadata": {
        "id": "relative-adoption"
      },
      "source": [
        "GPIOではなくCSI(Camera Serial Interface)というカメラ接続用のポートにカメラを接続し，撮った写真に人の顔が写った場合，「人がいます」とお知らせする機能を実装しましょう。"
      ]
    },
    {
      "cell_type": "markdown",
      "id": "necessary-blade",
      "metadata": {
        "id": "necessary-blade"
      },
      "source": [
        "下の写真のポートがCSIです。黒いツマミを持ち上げてください。"
      ]
    },
    {
      "cell_type": "markdown",
      "id": "challenging-interval",
      "metadata": {
        "id": "challenging-interval"
      },
      "source": [
        "<img src=\"https://github.com/YukiAoki-GU/IoT_for_beginners/blob/main/camera_pics/RP3.png?raw=1\" width=\"600\">"
      ]
    },
    {
      "cell_type": "markdown",
      "id": "metallic-inside",
      "metadata": {
        "id": "metallic-inside"
      },
      "source": [
        "下の写真のようにカメラのケーブルを接続し，黒いツマミを戻してください。"
      ]
    },
    {
      "cell_type": "markdown",
      "id": "increased-minutes",
      "metadata": {
        "id": "increased-minutes"
      },
      "source": [
        "<img src=\"https://github.com/YukiAoki-GU/IoT_for_beginners/blob/main/camera_pics/RP3_2.png?raw=1\" width=\"600\">"
      ]
    },
    {
      "cell_type": "markdown",
      "id": "static-administrator",
      "metadata": {
        "id": "static-administrator"
      },
      "source": [
        "ここまででカメラ接続の準備は終了です。"
      ]
    },
    {
      "cell_type": "markdown",
      "id": "certified-council",
      "metadata": {
        "id": "certified-council"
      },
      "source": [
        "---"
      ]
    },
    {
      "cell_type": "markdown",
      "id": "mexican-indicator",
      "metadata": {
        "id": "mexican-indicator"
      },
      "source": [
        "## カメラで写真を撮影し，結果を表示するフローを書きましょう。"
      ]
    },
    {
      "cell_type": "markdown",
      "id": "frozen-binary",
      "metadata": {
        "id": "frozen-binary"
      },
      "source": [
        "### 例1: \n",
        "写真をphoto.jpgに保存し，結果を表示する"
      ]
    },
    {
      "cell_type": "markdown",
      "id": "fabulous-sociology",
      "metadata": {
        "id": "fabulous-sociology"
      },
      "source": [
        "<img src=\"https://github.com/YukiAoki-GU/IoT_for_beginners/blob/main/camera_pics/cam1.png?raw=1\" width=\"800\">"
      ]
    },
    {
      "cell_type": "markdown",
      "id": "desirable-framework",
      "metadata": {
        "id": "desirable-framework"
      },
      "source": [
        "[{\"id\":\"8382d981.137478\",\"type\":\"inject\",\"z\":\"5f90ca88.44e444\",\"name\":\"\",\"props\":[{\"p\":\"payload\"},{\"p\":\"topic\",\"vt\":\"str\"}],\"repeat\":\"\",\"crontab\":\"\",\"once\":false,\"onceDelay\":0.1,\"topic\":\"\",\"payload\":\"\",\"payloadType\":\"date\",\"x\":210,\"y\":140,\"wires\":[[\"df8fbddb.e035c\"]]},{\"id\":\"df8fbddb.e035c\",\"type\":\"camerapi-takephoto\",\"z\":\"5f90ca88.44e444\",\"filemode\":\"1\",\"filename\":\"photo.jpg\",\"filedefpath\":\"1\",\"filepath\":\"\",\"fileformat\":\"jpeg\",\"resolution\":\"1\",\"rotation\":\"0\",\"fliph\":\"0\",\"flipv\":\"0\",\"brightness\":\"50\",\"contrast\":\"0\",\"sharpness\":\"0\",\"quality\":\"80\",\"imageeffect\":\"none\",\"exposuremode\":\"auto\",\"iso\":\"0\",\"agcwait\":\"1.0\",\"led\":\"0\",\"awb\":\"auto\",\"name\":\"\",\"x\":380,\"y\":140,\"wires\":[[\"f596a057.a01cc\"]]},{\"id\":\"39509ae.01cc266\",\"type\":\"image\",\"z\":\"5f90ca88.44e444\",\"name\":\"\",\"width\":\"320\",\"data\":\"payload\",\"dataType\":\"msg\",\"thumbnail\":false,\"active\":true,\"pass\":false,\"outputs\":0,\"x\":780,\"y\":140,\"wires\":[]},{\"id\":\"f596a057.a01cc\",\"type\":\"file in\",\"z\":\"5f90ca88.44e444\",\"name\":\"\",\"filename\":\"photo.jpg\",\"format\":\"\",\"chunk\":false,\"sendError\":false,\"encoding\":\"none\",\"x\":560,\"y\":140,\"wires\":[[\"39509ae.01cc266\"]]},{\"id\":\"aa48ca84.1d7348\",\"type\":\"comment\",\"z\":\"5f90ca88.44e444\",\"name\":\"写真を撮ってphoto.jpgとして保存し，表示する\",\"info\":\"\",\"x\":310,\"y\":100,\"wires\":[]}]"
      ]
    },
    {
      "cell_type": "markdown",
      "id": "august-father",
      "metadata": {
        "id": "august-father"
      },
      "source": [
        "### 例2:\n",
        "写真をバッファに保存し，結果を表示する"
      ]
    },
    {
      "cell_type": "markdown",
      "id": "graduate-italic",
      "metadata": {
        "id": "graduate-italic"
      },
      "source": [
        "<img src=\"https://github.com/YukiAoki-GU/IoT_for_beginners/blob/main/camera_pics/cam1_2.png?raw=1\" width=\"800\">"
      ]
    },
    {
      "cell_type": "markdown",
      "id": "painful-inside",
      "metadata": {
        "id": "painful-inside"
      },
      "source": [
        "[{\"id\":\"ca70e496.56a2d8\",\"type\":\"inject\",\"z\":\"5f90ca88.44e444\",\"name\":\"\",\"props\":[{\"p\":\"payload\"},{\"p\":\"topic\",\"vt\":\"str\"}],\"repeat\":\"\",\"crontab\":\"\",\"once\":false,\"onceDelay\":0.1,\"topic\":\"\",\"payload\":\"\",\"payloadType\":\"date\",\"x\":210,\"y\":300,\"wires\":[[\"70b51667.a438d8\"]]},{\"id\":\"70b51667.a438d8\",\"type\":\"camerapi-takephoto\",\"z\":\"5f90ca88.44e444\",\"filemode\":\"0\",\"filename\":\"\",\"filedefpath\":\"1\",\"filepath\":\"\",\"fileformat\":\"jpeg\",\"resolution\":\"1\",\"rotation\":\"0\",\"fliph\":\"0\",\"flipv\":\"0\",\"brightness\":\"50\",\"contrast\":\"0\",\"sharpness\":\"0\",\"quality\":\"80\",\"imageeffect\":\"none\",\"exposuremode\":\"auto\",\"iso\":\"0\",\"agcwait\":\"1.0\",\"led\":\"0\",\"awb\":\"auto\",\"name\":\"\",\"x\":380,\"y\":300,\"wires\":[[\"76a52c1b.72a294\"]]},{\"id\":\"76a52c1b.72a294\",\"type\":\"image\",\"z\":\"5f90ca88.44e444\",\"name\":\"\",\"width\":\"320\",\"data\":\"payload\",\"dataType\":\"msg\",\"thumbnail\":false,\"active\":true,\"pass\":false,\"outputs\":0,\"x\":580,\"y\":300,\"wires\":[]},{\"id\":\"57088f6a.b5bd2\",\"type\":\"comment\",\"z\":\"5f90ca88.44e444\",\"name\":\"写真を撮ってバッファの結果を表示する\",\"info\":\"\",\"x\":270,\"y\":260,\"wires\":[]}]"
      ]
    },
    {
      "cell_type": "markdown",
      "id": "injured-trustee",
      "metadata": {
        "id": "injured-trustee"
      },
      "source": [
        "---"
      ]
    },
    {
      "cell_type": "markdown",
      "id": "remarkable-norfolk",
      "metadata": {
        "id": "remarkable-norfolk"
      },
      "source": [
        "## 課題：\n",
        "カメラで撮った写真をHTTPを使ってIPアドレス:1880/photo1 に表示するプログラムを書きましょう。"
      ]
    },
    {
      "cell_type": "markdown",
      "id": "promotional-scotland",
      "metadata": {
        "id": "promotional-scotland"
      },
      "source": [
        "<img src=\"https://github.com/YukiAoki-GU/IoT_for_beginners/blob/main/camera_pics/cam2.png?raw=1\" width=\"1200\">"
      ]
    },
    {
      "cell_type": "markdown",
      "id": "suffering-garden",
      "metadata": {
        "id": "suffering-garden"
      },
      "source": [
        "[{\"id\":\"75a3b661.70e288\",\"type\":\"http in\",\"z\":\"5f90ca88.44e444\",\"name\":\"\",\"url\":\"/photo1\",\"method\":\"get\",\"upload\":false,\"swaggerDoc\":\"\",\"x\":150,\"y\":520,\"wires\":[[\"a491230.409a9e\"]]},{\"id\":\"29d25587.7af13a\",\"type\":\"http response\",\"z\":\"5f90ca88.44e444\",\"name\":\"\",\"statusCode\":\"\",\"headers\":{},\"x\":990,\"y\":520,\"wires\":[]},{\"id\":\"b487f205.378f8\",\"type\":\"base64\",\"z\":\"5f90ca88.44e444\",\"name\":\"Base64への変換\",\"action\":\"str\",\"property\":\"payload\",\"x\":620,\"y\":520,\"wires\":[[\"b4c8bc53.85e1e\"]]},{\"id\":\"b4c8bc53.85e1e\",\"type\":\"template\",\"z\":\"5f90ca88.44e444\",\"name\":\"htmlを作る\",\"field\":\"payload\",\"fieldType\":\"msg\",\"format\":\"handlebars\",\"syntax\":\"mustache\",\"template\":\"<html>\\n    <body>\\n        <img width=\\\"320px\\\" height=\\\"240px\\\" src=\\\"data:image/jpg;base64,{{payload}}\\\">\\n    </body>\\n<html>\\n\",\"output\":\"str\",\"x\":810,\"y\":520,\"wires\":[[\"29d25587.7af13a\"]]},{\"id\":\"66863a03.701544\",\"type\":\"comment\",\"z\":\"5f90ca88.44e444\",\"name\":\"httpで/photo1に表示する\",\"info\":\"\",\"x\":200,\"y\":480,\"wires\":[]},{\"id\":\"3d489092.1b19b\",\"type\":\"inject\",\"z\":\"5f90ca88.44e444\",\"name\":\"\",\"props\":[{\"p\":\"payload\"},{\"p\":\"topic\",\"vt\":\"str\"}],\"repeat\":\"\",\"crontab\":\"\",\"once\":false,\"onceDelay\":0.1,\"topic\":\"\",\"payload\":\"\",\"payloadType\":\"date\",\"x\":160,\"y\":580,\"wires\":[[\"a491230.409a9e\"]]},{\"id\":\"a491230.409a9e\",\"type\":\"camerapi-takephoto\",\"z\":\"5f90ca88.44e444\",\"filemode\":\"0\",\"filename\":\"\",\"filedefpath\":\"1\",\"filepath\":\"\",\"fileformat\":\"jpeg\",\"resolution\":\"1\",\"rotation\":\"0\",\"fliph\":\"0\",\"flipv\":\"0\",\"brightness\":\"50\",\"contrast\":\"0\",\"sharpness\":\"0\",\"quality\":\"80\",\"imageeffect\":\"none\",\"exposuremode\":\"auto\",\"iso\":\"0\",\"agcwait\":\"1.0\",\"led\":\"0\",\"awb\":\"auto\",\"name\":\"\",\"x\":380,\"y\":520,\"wires\":[[\"b487f205.378f8\"]]}]"
      ]
    },
    {
      "cell_type": "markdown",
      "id": "mediterranean-korean",
      "metadata": {
        "id": "mediterranean-korean"
      },
      "source": [
        "ここでのポイントは\n",
        "1. base64\n",
        "2. template\n",
        "\n",
        "ノードになります。"
      ]
    },
    {
      "cell_type": "markdown",
      "id": "informative-amendment",
      "metadata": {
        "id": "informative-amendment"
      },
      "source": [
        "### Base64のノードのプロパティ\n",
        "\n",
        "HTTPはテキストデータしか読めません。そのため，写真のデータを64種類のテキストにエンコードし直しているのがbase64です。"
      ]
    },
    {
      "cell_type": "markdown",
      "id": "adolescent-society",
      "metadata": {
        "id": "adolescent-society"
      },
      "source": [
        "<img src=\"https://github.com/YukiAoki-GU/IoT_for_beginners/blob/main/camera_pics/base64.png?raw=1\" width=\"800\">"
      ]
    },
    {
      "cell_type": "markdown",
      "id": "lined-delhi",
      "metadata": {
        "id": "lined-delhi"
      },
      "source": [
        "### Templateノードのプロパティ\n",
        "\n",
        "base64でエンコードしたデータがjpgであることを明示してhtmlを作っています。"
      ]
    },
    {
      "cell_type": "markdown",
      "id": "subjective-yukon",
      "metadata": {
        "id": "subjective-yukon"
      },
      "source": [
        "<img src=\"https://github.com/YukiAoki-GU/IoT_for_beginners/blob/main/camera_pics/template.png?raw=1\" width=\"800\">"
      ]
    },
    {
      "cell_type": "markdown",
      "id": "thorough-bidder",
      "metadata": {
        "id": "thorough-bidder"
      },
      "source": [
        "---"
      ]
    },
    {
      "cell_type": "markdown",
      "id": "discrete-landing",
      "metadata": {
        "id": "discrete-landing"
      },
      "source": [
        "## 課題：\n",
        "2秒おきに写真を撮影し，dashboardを使い結果をブラウザで自動更新しましょう。"
      ]
    },
    {
      "cell_type": "markdown",
      "id": "hawaiian-heater",
      "metadata": {
        "id": "hawaiian-heater"
      },
      "source": [
        "<img src=\"https://github.com/YukiAoki-GU/IoT_for_beginners/blob/main/camera_pics/cam3.png?raw=1\" width=\"1200\">"
      ]
    },
    {
      "cell_type": "markdown",
      "id": "corresponding-oriental",
      "metadata": {
        "id": "corresponding-oriental"
      },
      "source": [
        "[{\"id\":\"495d134c.b07f2c\",\"type\":\"comment\",\"z\":\"5f90ca88.44e444\",\"name\":\"dashboardに2秒ごとに自動更新\",\"info\":\"\",\"x\":210,\"y\":720,\"wires\":[]},{\"id\":\"3676b2bd.7a776e\",\"type\":\"camerapi-takephoto\",\"z\":\"5f90ca88.44e444\",\"filemode\":\"0\",\"filename\":\"\",\"filedefpath\":\"1\",\"filepath\":\"\",\"fileformat\":\"jpeg\",\"resolution\":\"1\",\"rotation\":\"0\",\"fliph\":\"0\",\"flipv\":\"0\",\"brightness\":\"50\",\"contrast\":\"0\",\"sharpness\":\"0\",\"quality\":\"80\",\"imageeffect\":\"none\",\"exposuremode\":\"auto\",\"iso\":\"0\",\"agcwait\":\"1.0\",\"led\":\"0\",\"awb\":\"auto\",\"name\":\"\",\"x\":380,\"y\":840,\"wires\":[[\"d9513b14.c8cbb8\",\"2a9e65f5.2612da\"]]},{\"id\":\"d9513b14.c8cbb8\",\"type\":\"base64\",\"z\":\"5f90ca88.44e444\",\"name\":\"Base64への変換\",\"action\":\"str\",\"property\":\"payload\",\"x\":620,\"y\":840,\"wires\":[[\"4181cbfc.0a7f34\"]]},{\"id\":\"4181cbfc.0a7f34\",\"type\":\"template\",\"z\":\"5f90ca88.44e444\",\"name\":\"htmlを作る\",\"field\":\"payload\",\"fieldType\":\"msg\",\"format\":\"handlebars\",\"syntax\":\"mustache\",\"template\":\"<html>\\n    <body>\\n        <img width=\\\"320px\\\" height=\\\"240px\\\" src=\\\"data:image/jpg;base64,{{payload}}\\\">\\n    </body>\\n<html>\\n\",\"output\":\"str\",\"x\":810,\"y\":840,\"wires\":[[\"726a9548.3e3edc\"]]},{\"id\":\"2a9e65f5.2612da\",\"type\":\"delay\",\"z\":\"5f90ca88.44e444\",\"name\":\"\",\"pauseType\":\"delay\",\"timeout\":\"2\",\"timeoutUnits\":\"seconds\",\"rate\":\"1\",\"nbRateUnits\":\"1\",\"rateUnits\":\"second\",\"randomFirst\":\"1\",\"randomLast\":\"5\",\"randomUnits\":\"seconds\",\"drop\":false,\"x\":380,\"y\":780,\"wires\":[[\"3676b2bd.7a776e\"]]},{\"id\":\"726a9548.3e3edc\",\"type\":\"ui_template\",\"z\":\"5f90ca88.44e444\",\"group\":\"6b2833a0.d7cd4c\",\"name\":\"\",\"order\":1,\"width\":\"6\",\"height\":\"5\",\"format\":\"<div ng-bind-html=\\\"msg.payload\\\"></div>\",\"storeOutMessages\":true,\"fwdInMessages\":true,\"resendOnRefresh\":true,\"templateScope\":\"local\",\"x\":1020,\"y\":840,\"wires\":[[]]},{\"id\":\"5fdeecc5.57ef44\",\"type\":\"inject\",\"z\":\"5f90ca88.44e444\",\"name\":\"\",\"props\":[{\"p\":\"payload\"},{\"p\":\"topic\",\"vt\":\"str\"}],\"repeat\":\"\",\"crontab\":\"\",\"once\":false,\"onceDelay\":0.1,\"topic\":\"\",\"payload\":\"\",\"payloadType\":\"date\",\"x\":160,\"y\":840,\"wires\":[[\"3676b2bd.7a776e\"]]},{\"id\":\"6b2833a0.d7cd4c\",\"type\":\"ui_group\",\"name\":\"IoT入門\",\"tab\":\"9db82914.a6a3f8\",\"order\":2,\"disp\":true,\"width\":\"6\",\"collapse\":false},{\"id\":\"9db82914.a6a3f8\",\"type\":\"ui_tab\",\"name\":\"Home\",\"icon\":\"dashboard\",\"disabled\":false,\"hidden\":false}]"
      ]
    },
    {
      "cell_type": "markdown",
      "id": "packed-geometry",
      "metadata": {
        "id": "packed-geometry"
      },
      "source": [
        "---"
      ]
    },
    {
      "cell_type": "markdown",
      "id": "decimal-difficulty",
      "metadata": {
        "id": "decimal-difficulty"
      },
      "source": [
        "## 課題：\n",
        "機械学習を使い，写真に人の顔が写っていたらお知らせする機能を実装しましょう。\n",
        "\n",
        "機械学習を行なっているノードがopencvというノードです。\n",
        "\n",
        "OpenCVは，カスケード分類器というものを使い，画像から特徴点を見つけるものです。\n",
        "\n",
        "人の顔の特徴点と一致する画像の場合，payload.0を返します。"
      ]
    },
    {
      "cell_type": "markdown",
      "id": "blank-might",
      "metadata": {
        "id": "blank-might"
      },
      "source": [
        "<img src=\"https://github.com/YukiAoki-GU/IoT_for_beginners/blob/main/camera_pics/cam5.png?raw=1\" width=\"1200\">"
      ]
    },
    {
      "cell_type": "markdown",
      "id": "drawn-yorkshire",
      "metadata": {
        "id": "drawn-yorkshire"
      },
      "source": [
        "[{\"id\":\"efcb871c.8073d8\",\"type\":\"inject\",\"z\":\"5f90ca88.44e444\",\"name\":\"スタート\",\"props\":[{\"p\":\"payload\"},{\"p\":\"topic\",\"vt\":\"str\"}],\"repeat\":\"\",\"crontab\":\"\",\"once\":false,\"onceDelay\":\"\",\"topic\":\"\",\"payload\":\"\",\"payloadType\":\"str\",\"x\":180,\"y\":1200,\"wires\":[[\"441f1473.79191c\"]]},{\"id\":\"93fe3e32.1ef3d\",\"type\":\"base64\",\"z\":\"5f90ca88.44e444\",\"name\":\"Base64への変換\",\"action\":\"str\",\"property\":\"payload\",\"x\":620,\"y\":1200,\"wires\":[[\"5561767a.1117e8\"]]},{\"id\":\"b9b183b5.28046\",\"type\":\"ui_template\",\"z\":\"5f90ca88.44e444\",\"group\":\"6b2833a0.d7cd4c\",\"name\":\"\",\"order\":2,\"width\":\"6\",\"height\":\"5\",\"format\":\"<div ng-bind-html=\\\"msg.payload\\\"></div>\",\"storeOutMessages\":true,\"fwdInMessages\":true,\"resendOnRefresh\":false,\"templateScope\":\"local\",\"x\":1040,\"y\":1200,\"wires\":[[]]},{\"id\":\"7a2b7e67.d0f3a\",\"type\":\"opencv\",\"z\":\"5f90ca88.44e444\",\"detect\":\"FACE_CASCADE\",\"output\":\"json\",\"name\":\"顔検出\",\"x\":670,\"y\":1100,\"wires\":[[\"99b0a6b4.bac4b8\"]]},{\"id\":\"99b0a6b4.bac4b8\",\"type\":\"switch\",\"z\":\"5f90ca88.44e444\",\"name\":\"顔が検出されたら\",\"property\":\"payload.0\",\"propertyType\":\"msg\",\"rules\":[{\"t\":\"nnull\"}],\"checkall\":\"true\",\"repair\":false,\"outputs\":1,\"x\":870,\"y\":1100,\"wires\":[[\"92e786e3.657828\"]]},{\"id\":\"92e786e3.657828\",\"type\":\"python-function\",\"z\":\"5f90ca88.44e444\",\"name\":\"「人がいます」と言わせる\",\"func\":\"msg[\\\"payload\\\"] = \\\"人がいます\\\"\\nreturn msg\",\"outputs\":1,\"x\":1120,\"y\":1100,\"wires\":[[\"e6d360b.65ba6a\"]]},{\"id\":\"e6d360b.65ba6a\",\"type\":\"ui_audio\",\"z\":\"5f90ca88.44e444\",\"name\":\"「人がいます」と言う\",\"group\":\"6b2833a0.d7cd4c\",\"voice\":\"Kyoko\",\"always\":\"\",\"x\":1380,\"y\":1100,\"wires\":[]},{\"id\":\"62c38ffd.301f1\",\"type\":\"comment\",\"z\":\"5f90ca88.44e444\",\"name\":\"顔を見つけてお知らせ\",\"info\":\"\",\"x\":180,\"y\":1060,\"wires\":[]},{\"id\":\"441f1473.79191c\",\"type\":\"camerapi-takephoto\",\"z\":\"5f90ca88.44e444\",\"filemode\":\"0\",\"filename\":\"\",\"filedefpath\":\"1\",\"filepath\":\"\",\"fileformat\":\"jpeg\",\"resolution\":\"1\",\"rotation\":\"0\",\"fliph\":\"0\",\"flipv\":\"0\",\"brightness\":\"50\",\"contrast\":\"0\",\"sharpness\":\"0\",\"quality\":\"80\",\"imageeffect\":\"none\",\"exposuremode\":\"auto\",\"iso\":\"0\",\"agcwait\":\"1.0\",\"led\":\"0\",\"awb\":\"auto\",\"name\":\"\",\"x\":380,\"y\":1200,\"wires\":[[\"93fe3e32.1ef3d\",\"7a2b7e67.d0f3a\",\"25358da3.a158e2\"]]},{\"id\":\"5561767a.1117e8\",\"type\":\"template\",\"z\":\"5f90ca88.44e444\",\"name\":\"htmlを作る\",\"field\":\"payload\",\"fieldType\":\"msg\",\"format\":\"handlebars\",\"syntax\":\"mustache\",\"template\":\"<html>\\n    <body>\\n        <img width=\\\"320px\\\" height=\\\"240px\\\" src=\\\"data:image/jpg;base64,{{payload}}\\\">\\n    </body>\\n<html>\\n\",\"output\":\"str\",\"x\":830,\"y\":1200,\"wires\":[[\"b9b183b5.28046\"]]},{\"id\":\"25358da3.a158e2\",\"type\":\"delay\",\"z\":\"5f90ca88.44e444\",\"name\":\"\",\"pauseType\":\"delay\",\"timeout\":\"2\",\"timeoutUnits\":\"seconds\",\"rate\":\"1\",\"nbRateUnits\":\"1\",\"rateUnits\":\"second\",\"randomFirst\":\"1\",\"randomLast\":\"5\",\"randomUnits\":\"seconds\",\"drop\":false,\"x\":380,\"y\":1120,\"wires\":[[\"441f1473.79191c\"]]},{\"id\":\"6b2833a0.d7cd4c\",\"type\":\"ui_group\",\"name\":\"IoT入門\",\"tab\":\"9db82914.a6a3f8\",\"order\":2,\"disp\":true,\"width\":\"6\",\"collapse\":false},{\"id\":\"9db82914.a6a3f8\",\"type\":\"ui_tab\",\"name\":\"Home\",\"icon\":\"dashboard\",\"disabled\":false,\"hidden\":false}]"
      ]
    },
    {
      "cell_type": "code",
      "execution_count": null,
      "id": "adult-holly",
      "metadata": {
        "id": "adult-holly"
      },
      "outputs": [],
      "source": []
    }
  ],
  "metadata": {
    "kernelspec": {
      "display_name": "Python 3",
      "language": "python",
      "name": "python3"
    },
    "language_info": {
      "codemirror_mode": {
        "name": "ipython",
        "version": 3
      },
      "file_extension": ".py",
      "mimetype": "text/x-python",
      "name": "python",
      "nbconvert_exporter": "python",
      "pygments_lexer": "ipython3",
      "version": "3.8.6"
    },
    "colab": {
      "provenance": [],
      "include_colab_link": true
    }
  },
  "nbformat": 4,
  "nbformat_minor": 5
}